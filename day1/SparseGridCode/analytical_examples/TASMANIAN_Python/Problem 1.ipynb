{
 "cells": [
  {
   "cell_type": "markdown",
   "metadata": {},
   "source": [
    "# Problem 1"
   ]
  },
  {
   "cell_type": "code",
   "execution_count": 6,
   "metadata": {
    "collapsed": false
   },
   "outputs": [
    {
     "name": "stdout",
     "output_type": "stream",
     "text": [
      "TasmanianSG version: 4.0\n",
      "TasmanianSG license: BSD 3-Clause\n"
     ]
    }
   ],
   "source": [
    "import TasmanianSG\n",
    "import numpy as np\n",
    "\n",
    "# imports specifically needed by the examples\n",
    "import math\n",
    "from random import uniform\n",
    "from datetime import datetime\n",
    "\n",
    "print(\"TasmanianSG version: {0:s}\".format(TasmanianSG.__version__))\n",
    "print(\"TasmanianSG license: {0:s}\".format(TasmanianSG.__license__))\n",
    "\n",
    "grid  = TasmanianSG.TasmanianSparseGrid()\n",
    "grid1 = TasmanianSG.TasmanianSparseGrid()\n",
    "grid2 = TasmanianSG.TasmanianSparseGrid()"
   ]
  },
  {
   "cell_type": "markdown",
   "metadata": {},
   "source": [
    "### Static Sparse Grid"
   ]
  },
  {
   "cell_type": "code",
   "execution_count": 3,
   "metadata": {
    "collapsed": false
   },
   "outputs": [
    {
     "name": "stdout",
     "output_type": "stream",
     "text": [
      "\n",
      "-------------------------------------------------------------------------------------------------\n",
      "Example 1 for OSM: interpolate f(x,y) = cos(0.5 * pi * x) * cos(0.5 * pi * y)\n",
      "       using fixed sparse grid with depth 2\n",
      "       the error is estimated as the maximum from 1000 random points\n",
      "\n",
      " For localp    Number of points: 13   Max. Error: 1.9939672303187297e-01\n"
     ]
    }
   ],
   "source": [
    "# EXAMPLE 1 for OSM:\n",
    "# interpolate: f(x,y) = cos(0.5 * pi * x) * cos(0.5 * pi * y)\n",
    "# using piecewise linear basis functions.\n",
    "\n",
    "# 1000 2-dimensional sample points \n",
    "aPnts = np.empty([1000, 2])  \n",
    "for iI in range(1000):\n",
    "    for iJ in range(2):\n",
    "        aPnts[iI][iJ] = uniform(-1.0, 1.0)\n",
    "        \n",
    "### (Kei Comment) This is generating 1000 points on (x,y) grid uniformly so that we can use this \n",
    "### to evaluate how well the function is interpolating.\n",
    "\n",
    "# Result\n",
    "aTres = np.empty([1000,])\n",
    "for iI in range(1000):\n",
    "    aTres[iI] = math.cos(0.5 * math.pi * aPnts[iI][0]) * math.cos(0.5 * math.pi * aPnts[iI][1])\n",
    "### (Kei Comment) Getting the actual value of the function at these 1000 uniformly generated grid points.\n",
    "\n",
    "# Sparse Grid with dimension 2 and 1 output and refinement level 5\n",
    "iDim = 2\n",
    "iOut = 1\n",
    "iDepth = 2\n",
    "which_basis = 1 #1= linear basis functions -> Check the manual for other options\n",
    "\n",
    "print(\"\\n-------------------------------------------------------------------------------------------------\")\n",
    "print(\"Example 1 for OSM: interpolate f(x,y) = cos(0.5 * pi * x) * cos(0.5 * pi * y)\")\n",
    "print(\"       using fixed sparse grid with depth {0:1d}\".format(iDepth))\n",
    "print(\"       the error is estimated as the maximum from 1000 random points\\n\")\n",
    "\n",
    "# construct sparse grid\n",
    "grid.makeLocalPolynomialGrid(iDim, iOut, iDepth, which_basis, \"localp\")  \n",
    "### (Kei Comment) Creates sparse grid of points to evaluate function and interpolate\n",
    "aPoints = grid.getPoints()\n",
    "iNumP1 = aPoints.shape[0]\n",
    "aVals = np.empty([aPoints.shape[0], 1])\n",
    "for iI in range(aPoints.shape[0]):\n",
    "    aVals[iI] = math.cos(0.5 * math.pi * aPoints[iI][0]) * math.cos(0.5 * math.pi * aPoints[iI][1])\n",
    "grid.loadNeededPoints(aVals)  \n",
    "### (Kei Comment) Load these values and interpolate (based on sparse grid of points)\n",
    "\n",
    "# compute the error\n",
    "aRes = grid.evaluateBatch(aPnts)  \n",
    "### (Kei Comment) evaluate how well the interpolation is doing by finding the error at the 1000 unformly \n",
    "### generated data points based on interpolation. \n",
    "\n",
    "fError1 = max(np.fabs(aRes[:,0] - aTres))\n",
    "print(\" For localp    Number of points: {0:1d}   Max. Error: {1:1.16e}\".format(iNumP1, fError1))\n",
    "\n",
    "# write coordinates of grid to a text file\n",
    "f=open(\"fix_sparse_grid.txt\", 'a')\n",
    "np.savetxt(f, aPoints, fmt='% 2.16f')\n",
    "f.close()"
   ]
  },
  {
   "cell_type": "markdown",
   "metadata": {},
   "source": [
    "### Adaptive Sparse Grid"
   ]
  },
  {
   "cell_type": "code",
   "execution_count": 7,
   "metadata": {
    "collapsed": false
   },
   "outputs": [
    {
     "name": "stdout",
     "output_type": "stream",
     "text": [
      "[[ 0.  0.]\n",
      " [ 0. -1.]\n",
      " [ 0.  1.]\n",
      " [-1.  0.]\n",
      " [ 1.  0.]]\n",
      "\n",
      "-------------------------------------------------------------------------------------------------\n",
      "Example 2: interpolate f(x,y) = cos(0.5 * pi * x) * cos(0.5 * pi * y)\n",
      "   the error is estimated as the maximum from 1000 random points\n",
      "   tolerance is set at 1.E-5 and piecewise linear basis functions are used\n",
      "\n",
      "               Classic refinement \n",
      " refinement level         points     error   \n",
      "         1         9  3.05e-01\n",
      "         2        14  2.38e-01\n",
      "         3        27  2.11e-01\n",
      "         4        58  2.10e-01\n",
      "         5       125  1.85e-01\n",
      "\n",
      "-------------------------------------------------------------------------------------------------\n",
      "   a fix sparse grid of level  6  would consist of  321  points\n",
      "\n",
      "-------------------------------------------------------------------------------------------------\n",
      "\n"
     ]
    }
   ],
   "source": [
    "## EXAMPLE 2 for OSM:\n",
    "## interpolate: f(x,y) = exp(-x) / (1 + 100 * exp(-10 * y))\n",
    "## using refinement\n",
    "\n",
    "aTres = np.empty([1000,])\n",
    "for iI in range(1000):\n",
    "    aTres[iI] = math.cos(0.5 * math.pi * aPnts[iI][0]) * math.cos(0.5 * math.pi * aPnts[iI][1])\n",
    "\n",
    "# Adaptive Sparse Grid with dimension 2 and 1 output and maximum refinement level 5, refinement criterion.\n",
    "iDim = 2\n",
    "iOut = 1\n",
    "iDepth = 1\n",
    "fTol = 1.E-5\n",
    "which_basis = 1 \n",
    "refinement_level = 5\n",
    "\n",
    "# level of grid before refinement\n",
    "grid1.makeLocalPolynomialGrid(iDim, iOut, iDepth, which_basis, \"localp\")\n",
    "\n",
    "aPoints = grid1.getPoints()\n",
    "print(aPoints)\n",
    "aVals = np.empty([aPoints.shape[0], 1])\n",
    "for iI in range(aPoints.shape[0]):\n",
    "    aVals[iI] = math.cos(0.5 * math.pi * aPoints[iI][0]) * math.cos(0.5 * math.pi * aPoints[iI][1])\n",
    "grid1.loadNeededPoints(aVals)\n",
    "\n",
    "### (Kei Comment) Initializing the sparse grid at that level iDepth (in this case 1). This is the \n",
    "### static sparse grid. We do this because sometimes we check at areas that may not be helpful.\n",
    "\n",
    "print(\"\\n-------------------------------------------------------------------------------------------------\")\n",
    "print(\"Example 2: interpolate f(x,y) = cos(0.5 * pi * x) * cos(0.5 * pi * y)\")\n",
    "print(\"   the error is estimated as the maximum from 1000 random points\")\n",
    "print(\"   tolerance is set at 1.E-5 and piecewise linear basis functions are used\\n\")\n",
    "\n",
    "print(\"               Classic refinement \")\n",
    "print(\" refinement level         points     error   \")\n",
    "\n",
    "#refinement level\n",
    "for iK in range(refinement_level):\n",
    "    grid1.setSurplusRefinement(fTol, 1, \"fds\")   #also use fds, or other rules\n",
    "    aPoints = grid1.getNeededPoints()\n",
    "    aVals = np.empty([aPoints.shape[0], 1])\n",
    "    for iI in range(aPoints.shape[0]):\n",
    "        aVals[iI] = math.cos(0.5 * math.pi * aPoints[iI][0]) * math.cos(0.5 * math.pi * aPoints[iI][1])\n",
    "    grid1.loadNeededPoints(aVals)\n",
    "\n",
    "    aRes = grid1.evaluateBatch(aPnts)\n",
    "    fError1 = max(np.fabs(aRes[:,0] - aTres))\n",
    "\n",
    "    print(\" {0:9d} {1:9d}  {2:1.2e}\".format(iK+1, grid1.getNumPoints(), fError1))\n",
    "    \n",
    "### (Kei Comment) For each level, look at the possible grid surplus (coefficient). If coefficient bigger \n",
    "### than threshold evaluate function at that grid point. If not, do not evaluate function at that grid point. \n",
    "### Continue until threshold is met at that area in which case don't check children or stop because refinement level\n",
    "### has been reached. \n",
    "\n",
    "### (Kei Comment) For value function, during each iteration the sparse grid evolves and gets bigger until some threshold.\n",
    "### Also, for each iteration, has new sparse grid because the function has changed as new value function update.\n",
    "\n",
    "# write coordinates of grid to a text file\n",
    "f2=open(\"Adaptive_sparse_grid.txt\", 'a')\n",
    "np.savetxt(f2, aPoints, fmt='% 2.16f')\n",
    "f2.close()\n",
    " \n",
    "grid2 = TasmanianSG.TasmanianSparseGrid()\n",
    "grid2.makeLocalPolynomialGrid(iDim, iOut, refinement_level+iDepth, which_basis, \"localp\")\n",
    "a = grid2.getNumPoints()\n",
    " \n",
    "print(\"\\n-------------------------------------------------------------------------------------------------\")\n",
    "print \"   a fix sparse grid of level \", refinement_level+iDepth, \" would consist of \" ,a, \" points\"\n",
    "print(\"\\n-------------------------------------------------------------------------------------------------\\n\")    "
   ]
  },
  {
   "cell_type": "code",
   "execution_count": null,
   "metadata": {
    "collapsed": true
   },
   "outputs": [],
   "source": []
  }
 ],
 "metadata": {
  "kernelspec": {
   "display_name": "Python 2",
   "language": "python",
   "name": "python2"
  },
  "language_info": {
   "codemirror_mode": {
    "name": "ipython",
    "version": 2
   },
   "file_extension": ".py",
   "mimetype": "text/x-python",
   "name": "python",
   "nbconvert_exporter": "python",
   "pygments_lexer": "ipython2",
   "version": "2.7.12"
  }
 },
 "nbformat": 4,
 "nbformat_minor": 2
}
