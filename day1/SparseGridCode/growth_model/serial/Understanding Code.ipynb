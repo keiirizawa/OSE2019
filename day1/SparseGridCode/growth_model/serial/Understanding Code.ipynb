{
 "cells": [
  {
   "cell_type": "markdown",
   "metadata": {},
   "source": [
    "### Understanding Code"
   ]
  },
  {
   "cell_type": "markdown",
   "metadata": {},
   "source": [
    "### Main.py"
   ]
  },
  {
   "cell_type": "code",
   "execution_count": 3,
   "metadata": {
    "collapsed": true
   },
   "outputs": [],
   "source": [
    "import nonlinear_solver_initial as solver     #solves opt. problems for terminal VF\n",
    "import nonlinear_solver_iterate as solviter   #solves opt. problems during VFI\n",
    "from parameters import *                      #parameters of model\n",
    "import interpolation as interpol              #interface to sparse grid library/terminal VF\n",
    "import interpolation_iter as interpol_iter    #interface to sparse grid library/iteration\n",
    "import postprocessing as post                 #computes the L2 and Linfinity error of the model\n",
    "\n",
    "import TasmanianSG                            #sparse grid library\n",
    "import numpy as np"
   ]
  },
  {
   "cell_type": "markdown",
   "metadata": {},
   "source": [
    "### Parameters"
   ]
  },
  {
   "cell_type": "code",
   "execution_count": 4,
   "metadata": {
    "collapsed": true
   },
   "outputs": [],
   "source": [
    "#======================================================================\n",
    "# \n",
    "#     sets the parameters for the model\n",
    "#     \"Growth Model\"\n",
    "#\n",
    "#     The model is described in Scheidegger & Bilionis (2017)\n",
    "#     https://papers.ssrn.com/sol3/papers.cfm?abstract_id=2927400\n",
    "#\n",
    "#     Simon Scheidegger, 11/16 ; 07/17\n",
    "#====================================================================== \n",
    "\n",
    "import numpy as np\n",
    "\n",
    "#====================================================================== \n",
    "\n",
    "# Depth of \"Classical\" Sparse grid\n",
    "iDepth=1\n",
    "iOut=1         # how many outputs\n",
    "which_basis = 1 #linear basis function (2: quadratic local basis)\n",
    "\n",
    "# control of iterations\n",
    "numstart = 0   # which is iteration to start (numstart = 0: start from scratch, number=/0: restart)\n",
    "numits = 10    # which is the iteration to end\n",
    "\n",
    "# How many random points for computing the errors\n",
    "No_samples = 1000\n",
    "\n",
    "#====================================================================== \n",
    "\n",
    "# Model Paramters\n",
    "\n",
    "n_agents=2  # number of continuous dimensions of the model\n",
    "\n",
    "beta=0.8\n",
    "rho=0.95\n",
    "zeta=0.5\n",
    "psi=0.36\n",
    "gamma=2.0\n",
    "delta=0.025\n",
    "eta=1\n",
    "big_A=(1.0-beta)/(psi*beta)\n",
    "\n",
    "# Ranges For States\n",
    "range_cube=1 # range of [0..1]^d in 1D\n",
    "k_bar=0.2\n",
    "k_up=3.0\n",
    "\n",
    "# Ranges for Controls\n",
    "c_bar=1e-2\n",
    "c_up=10000.0\n",
    "\n",
    "l_bar=1e-2\n",
    "l_up=1.0\n",
    "\n",
    "inv_bar=1e-2\n",
    "inv_up=10000.0\n",
    "\n",
    "#====================================================================== \n",
    "\n"
   ]
  },
  {
   "cell_type": "code",
   "execution_count": 7,
   "metadata": {
    "collapsed": false
   },
   "outputs": [
    {
     "name": "stdout",
     "output_type": "stream",
     "text": [
      "===============================================================\n",
      " \n",
      "(' Computation of a growth model of dimension ', 2, ' finished after ', 10, ' steps')\n",
      " \n",
      "===============================================================\n",
      "===============================================================\n",
      " \n",
      " Errors are computed -- see errors.txt\n",
      " \n",
      "===============================================================\n"
     ]
    }
   ],
   "source": [
    "#======================================================================\n",
    "# Start with Value Function Iteration\n",
    "\n",
    "# terminal value function\n",
    "valnew=TasmanianSG.TasmanianSparseGrid()\n",
    "if (numstart==0):\n",
    "    ### Get sparse grid with n_agents state and iDepth\n",
    "    valnew=interpol.sparse_grid(n_agents, iDepth)\n",
    "    valnew.write(\"valnew_1.\" + str(numstart) + \".txt\") #write file to disk for restart\n",
    "\n",
    "# value function during iteration\n",
    "else:\n",
    "    valnew.read(\"valnew_1.\" + str(numstart) + \".txt\")  #write file to disk for restart\n",
    "    \n",
    "valold=TasmanianSG.TasmanianSparseGrid()\n",
    "valold=valnew\n",
    "\n",
    "for numits in range(1, 10): \n",
    "for i in range(numstart, numits):\n",
    "    valnew=TasmanianSG.TasmanianSparseGrid()\n",
    "    valnew=interpol_iter.sparse_grid_iter(n_agents, iDepth, valold)\n",
    "    valold=TasmanianSG.TasmanianSparseGrid()\n",
    "    valold=valnew\n",
    "    valnew.write(\"valnew_1.\" + str(i+1) + \".txt\")\n",
    "    \n",
    "#======================================================================\n",
    "print( \"===============================================================\")\n",
    "print( \" \" )\n",
    "print( \" Computation of a growth model of dimension \", n_agents ,\" finished after \", numits, \" steps\")\n",
    "print( \" \" )\n",
    "print( \"===============================================================\")\n",
    "#======================================================================\n",
    "\n",
    "# compute errors   \n",
    "avg_err=post.ls_error(n_agents, numstart, numits, No_samples)\n",
    "\n",
    "#======================================================================\n",
    "print( \"===============================================================\")\n",
    "print( \" \")\n",
    "print( \" Errors are computed -- see errors.txt\")\n",
    "print( \" \")\n",
    "print( \"===============================================================\")\n",
    "#======================================================================"
   ]
  },
  {
   "cell_type": "code",
   "execution_count": null,
   "metadata": {
    "collapsed": true
   },
   "outputs": [],
   "source": []
  },
  {
   "cell_type": "markdown",
   "metadata": {},
   "source": [
    "### interpolation.py"
   ]
  },
  {
   "cell_type": "code",
   "execution_count": 4,
   "metadata": {
    "collapsed": true
   },
   "outputs": [],
   "source": [
    "#======================================================================\n",
    "#\n",
    "#     This routine interfaces with the TASMANIAN Sparse grid\n",
    "#     The crucial part is \n",
    "#\n",
    "#     aVals[iI]=solver.initial(aPoints[iI], n_agents)[0]  \n",
    "#     => at every gridpoint, we solve an optimization problem\n",
    "#\n",
    "#     Simon Scheidegger, 11/16 ; 07/17\n",
    "#======================================================================\n",
    "\n",
    "import TasmanianSG\n",
    "import numpy as np\n",
    "from parameters import *\n",
    "import nonlinear_solver_initial as solver\n",
    "\n",
    "#======================================================================\n",
    "\n",
    "def sparse_grid(n_agents, iDepth):\n",
    "    \n",
    "    grid  = TasmanianSG.TasmanianSparseGrid()\n",
    "\n",
    "    k_range=np.array([k_bar, k_up])\n",
    "\n",
    "    ranges=np.empty((n_agents, 2))\n",
    "\n",
    "\n",
    "    for i in range(n_agents):\n",
    "        ranges[i]=k_range\n",
    "\n",
    "    iDim=n_agents\n",
    "\n",
    "    grid.makeLocalPolynomialGrid(iDim, iOut, iDepth, which_basis, \"localp\")\n",
    "    grid.setDomainTransform(ranges)\n",
    "\n",
    "    aPoints=grid.getPoints()\n",
    "    iNumP1=aPoints.shape[0]\n",
    "    aVals=np.empty([iNumP1, 1])\n",
    "    \n",
    "    file=open(\"comparison0.txt\", 'w')\n",
    "    for iI in range(iNumP1):\n",
    "        aVals[iI]=solver.initial(aPoints[iI], n_agents)[0] \n",
    "        v=aVals[iI]*np.ones((1,1))\n",
    "        to_print=np.hstack((aPoints[iI].reshape(1,n_agents), v))\n",
    "        np.savetxt(file, to_print, fmt='%2.16f')\n",
    "        \n",
    "    file.close()\n",
    "    grid.loadNeededPoints(aVals)\n",
    "    \n",
    "    f=open(\"grid.txt\", 'w')\n",
    "    np.savetxt(f, aPoints, fmt='% 2.16f')\n",
    "    f.close()\n",
    "    \n",
    "    return grid\n",
    "#======================================================================"
   ]
  },
  {
   "cell_type": "code",
   "execution_count": 8,
   "metadata": {
    "collapsed": false,
    "scrolled": true
   },
   "outputs": [
    {
     "data": {
      "image/png": "[encoded data removed]",
      "text/plain": [
       "<Figure size 432x288 with 1 Axes>"
      ]
     },
     "metadata": {},
     "output_type": "display_data"
    },
    {
     "data": {
      "text/plain": [
       "<module 'matplotlib.pyplot' from '/software/python-2.7.12-el7-x86_64/lib/python2.7/site-packages/matplotlib/pyplot.pyc'>"
      ]
     },
     "execution_count": 8,
     "metadata": {},
     "output_type": "execute_result"
    }
   ],
   "source": [
    "valnew=interpol.sparse_grid(2, 4)\n",
    "valnew.plotPoints2D()"
   ]
  },
  {
   "cell_type": "code",
   "execution_count": null,
   "metadata": {
    "collapsed": true
   },
   "outputs": [],
   "source": []
  },
  {
   "cell_type": "markdown",
   "metadata": {},
   "source": [
    "### nonlinear_solver_initial.py"
   ]
  },
  {
   "cell_type": "code",
   "execution_count": null,
   "metadata": {
    "collapsed": true
   },
   "outputs": [],
   "source": [
    "#======================================================================\n",
    "#\n",
    "#     This routine interfaces with IPOPT\n",
    "#     It sets the optimization problem for every gridpoint\n",
    "#     at the beginning of the VFI.\n",
    "#\n",
    "#     Simon Scheidegger, 11/16 ; 07/17\n",
    "#======================================================================\n",
    "\n",
    "from parameters import *\n",
    "from ipopt_wrapper import EV_F, EV_GRAD_F, EV_G, EV_JAC_G\n",
    "import numpy as np\n",
    "import pyipopt\n",
    "\n",
    "#======================================================================\n",
    "\n",
    "def initial(k_init, n_agents):\n",
    "    # IPOPT PARAMETERS below \n",
    "    nvars=3*n_agents\n",
    "    N=nvars         # number of vars\n",
    "    M=3*n_agents+1  # number of constraints\n",
    "    NELE_JAC=N*M\n",
    "    NELE_HESS=(N**2-N)/2 + N    # number of non-zero entries of Hess matrix\n",
    "\n",
    "    # check that number of nonlinear equations is consistent \n",
    "    if (N!=3*n_agents):\n",
    "        print(\"there is an error with the number of non-lin eqs!\")\n",
    "        quit\n",
    "\n",
    "    # Vector of variables -> solution of non-linear equation system \n",
    "    X=np.empty(N)\n",
    "\n",
    "    LAM=np.empty(M) # multipliers\n",
    "    G=np.empty(M)   # (in-)equality constraints\n",
    "\n",
    "    # Vector of lower and upper bounds\n",
    "    G_L=np.empty(M)\n",
    "    G_U=np.empty(M)\n",
    "\n",
    "    X_L=np.empty(N)\n",
    "    X_U=np.empty(N)\n",
    "\n",
    "    Z_L=np.empty(N)\n",
    "    Z_U=np.empty(N)\n",
    "\n",
    "    # get coords of an individual grid points \n",
    "    grid_pt_box=k_init\n",
    "    X_L[:n_agents]=c_bar\n",
    "    X_U[:n_agents]=c_up\n",
    "\n",
    "    X_L[n_agents:2*n_agents]=l_bar\n",
    "    X_U[n_agents:2*n_agents]=l_up\n",
    "\n",
    "    X_L[2*n_agents:3*n_agents]=inv_bar\n",
    "    X_U[2*n_agents:3*n_agents]=inv_up\n",
    "\n",
    "    # Set bounds for the constraints \n",
    "    G_L[:n_agents]=c_bar\n",
    "    G_U[:n_agents]=c_up\n",
    "\n",
    "    G_L[n_agents:2*n_agents]=l_bar\n",
    "    G_U[n_agents:2*n_agents]=l_up\n",
    "\n",
    "    G_L[2*n_agents:3*n_agents]=inv_bar\n",
    "    G_U[2*n_agents:3*n_agents]=inv_up\n",
    "\n",
    "    G_L[3*n_agents]=0.0 # both values set to 0 for equality contraints\n",
    "    G_U[3*n_agents]=0.0\n",
    "\n",
    "    # initial guesses for first iteration\n",
    "    cons_init=0.5*(X_U[:n_agents] - X_L[:n_agents]) + X_L[:n_agents]\n",
    "    lab_init=0.5*(X_U[n_agents:2*n_agents] - X_L[n_agents:2*n_agents]) + X_L[n_agents:2*n_agents]\n",
    "    inv_init=0.5*(X_U[2*n_agents:3*n_agents] - X_L[2*n_agents:3*n_agents]) + X_L[2*n_agents:3*n_agents]\n",
    "\n",
    "    X[:n_agents]=cons_init\n",
    "    X[n_agents:2*n_agents]=lab_init\n",
    "    X[2*n_agents:3*n_agents]=inv_init\n",
    "    #X=np.ones(nvars)\n",
    "    \n",
    "    # Create ev_f, eval_f, eval_grad_f, eval_g, eval_jac_g for given k_init and n_agent \n",
    "    def eval_f(X):\n",
    "        return EV_F(X, k_init, n_agents)\n",
    "    \n",
    "    def eval_grad_f(X):\n",
    "        return EV_GRAD_F(X,k_init, n_agents)\n",
    "    \n",
    "    def eval_g(X):\n",
    "        return EV_G(X, k_init, n_agents)\n",
    "        \n",
    "    def eval_jac_g(X, flag):\n",
    "        return EV_JAC_G(X, flag, k_init, n_agents)\n",
    "        \n",
    "    # First create a handle for the Ipopt problem \n",
    "    nlp=pyipopt.create(nvars, X_L, X_U, M, G_L, G_U, NELE_JAC, NELE_HESS, eval_f, eval_grad_f, eval_g, eval_jac_g)\n",
    "    nlp.num_option(\"obj_scaling_factor\", -1.00)\n",
    "    nlp.num_option(\"tol\", 1e-6)\n",
    "    nlp.num_option(\"acceptable_tol\", 1e-5)\n",
    "    nlp.str_option(\"derivative_test\", \"first-order\")\n",
    "    nlp.str_option(\"hessian_approximation\", \"limited-memory\")\n",
    "    nlp.int_option(\"print_level\", 0)\n",
    "    \n",
    "    x, z_l, z_u, constraint_multipliers, obj, status=nlp.solve(X)\n",
    "    nlp.close()\n",
    "    # x: Solution of the primal variables\n",
    "    # z_l, z_u: Solution of the bound multipliers\n",
    "    # constraint_multipliers: Solution of the constraint multipliers\n",
    "    # obj: Objective value\n",
    "    # status: Exit Status\n",
    "\n",
    "    # Unpack Consumption, Labor, and Investment \n",
    "    c=x[:n_agents]\n",
    "    l=x[n_agents:2*n_agents]\n",
    "    inv=x[2*n_agents:3*n_agents]\n",
    "    \n",
    "    to_print=np.hstack((obj,x))\n",
    "    \n",
    "    # == debug ==\n",
    "    #f=open(\"results.txt\", 'a')\n",
    "    #np.savetxt(f, np.transpose(to_print) #, fmt=len(x)*'%10.10f ')\n",
    "    #for num in to_print:\n",
    "    #    f.write(str(num)+\"\\t\")\n",
    "    #f.write(\"\\n\")\n",
    "    #f.close()\n",
    "    \n",
    "    return obj, c, l, inv"
   ]
  },
  {
   "cell_type": "code",
   "execution_count": null,
   "metadata": {
    "collapsed": true
   },
   "outputs": [],
   "source": []
  },
  {
   "cell_type": "code",
   "execution_count": null,
   "metadata": {
    "collapsed": true
   },
   "outputs": [],
   "source": []
  },
  {
   "cell_type": "markdown",
   "metadata": {},
   "source": [
    "### interpolation_iter.py"
   ]
  },
  {
   "cell_type": "code",
   "execution_count": null,
   "metadata": {
    "collapsed": true
   },
   "outputs": [],
   "source": [
    "#======================================================================\n",
    "#\n",
    "#     This routine interfaces with the TASMANIAN Sparse grid\n",
    "#     The crucial part is \n",
    "#\n",
    "#     aVals[iI]=solveriter.iterate(aPoints[iI], n_agents)[0]  \n",
    "#     => at every gridpoint, we solve an optimization problem\n",
    "#\n",
    "#     Simon Scheidegger, 11/16 ; 07/17\n",
    "#======================================================================\n",
    "\n",
    "import TasmanianSG\n",
    "import numpy as np\n",
    "from parameters import *\n",
    "import nonlinear_solver_iterate as solveriter\n",
    "\n",
    "#======================================================================\n",
    "\n",
    "def sparse_grid_iter(n_agents, iDepth, valold):\n",
    "    \n",
    "    grid  = TasmanianSG.TasmanianSparseGrid()\n",
    "\n",
    "    k_range=np.array([k_bar, k_up])\n",
    "\n",
    "    ranges=np.empty((n_agents, 2))\n",
    "\n",
    "\n",
    "    for i in range(n_agents):\n",
    "        ranges[i]=k_range\n",
    "\n",
    "    iDim=n_agents\n",
    "    iOut=1\n",
    "\n",
    "    grid.makeLocalPolynomialGrid(iDim, iOut, iDepth, which_basis, \"localp\")\n",
    "    grid.setDomainTransform(ranges)\n",
    "\n",
    "    aPoints=grid.getPoints()\n",
    "    iNumP1=aPoints.shape[0]\n",
    "    aVals=np.empty([iNumP1, 1])\n",
    "    \n",
    "    file=open(\"comparison1.txt\", 'w')\n",
    "    for iI in range(iNumP1):\n",
    "        aVals[iI]=solveriter.iterate(aPoints[iI], n_agents, valold)[0]\n",
    "        v=aVals[iI]*np.ones((1,1))\n",
    "        to_print=np.hstack((aPoints[iI].reshape(1,n_agents), v))\n",
    "        np.savetxt(file, to_print, fmt='%2.16f')\n",
    "        \n",
    "    file.close()\n",
    "    grid.loadNeededPoints(aVals)\n",
    "    \n",
    "    f=open(\"grid_iter.txt\", 'w')\n",
    "    np.savetxt(f, aPoints, fmt='% 2.16f')\n",
    "    f.close()\n",
    "    \n",
    "    return grid\n",
    "\n",
    "#======================================================================"
   ]
  },
  {
   "cell_type": "code",
   "execution_count": null,
   "metadata": {
    "collapsed": true
   },
   "outputs": [],
   "source": []
  }
 ],
 "metadata": {
  "kernelspec": {
   "display_name": "Python 2",
   "language": "python",
   "name": "python2"
  },
  "language_info": {
   "codemirror_mode": {
    "name": "ipython",
    "version": 2
   },
   "file_extension": ".py",
   "mimetype": "text/x-python",
   "name": "python",
   "nbconvert_exporter": "python",
   "pygments_lexer": "ipython2",
   "version": "2.7.12"
  }
 },
 "nbformat": 4,
 "nbformat_minor": 2
}
