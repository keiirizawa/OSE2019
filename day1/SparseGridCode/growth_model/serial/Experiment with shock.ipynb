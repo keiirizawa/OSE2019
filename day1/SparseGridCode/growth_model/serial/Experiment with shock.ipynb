{
 "cells": [
  {
   "cell_type": "code",
   "execution_count": null,
   "metadata": {
    "collapsed": false,
    "scrolled": true
   },
   "outputs": [
    {
     "name": "stdout",
     "output_type": "stream",
     "text": [
      "('vn_list', [])\n",
      "0\n",
      "<TasmanianSG.TasmanianSparseGrid instance at 0x7fac844ea290>\n",
      "HERE\n",
      "<TasmanianSG.TasmanianSparseGrid instance at 0x7fac844ea290>\n",
      "1\n",
      "<TasmanianSG.TasmanianSparseGrid instance at 0x7fac83dd67a0>\n",
      "HERE\n",
      "<TasmanianSG.TasmanianSparseGrid instance at 0x7fac83dd67a0>\n",
      "2\n",
      "<TasmanianSG.TasmanianSparseGrid instance at 0x7fac83df47a0>\n"
     ]
    }
   ],
   "source": [
    "#======================================================================\n",
    "#\n",
    "#     This routine solves an infinite horizon growth model \n",
    "#     with dynamic programming and sparse grids\n",
    "#\n",
    "#     The model is described in Scheidegger & Bilionis (2017)\n",
    "#     https://papers.ssrn.com/sol3/papers.cfm?abstract_id=2927400\n",
    "#\n",
    "#     external libraries needed:\n",
    "#     - IPOPT (https://projects.coin-or.org/Ipopt)\n",
    "#     - PYIPOPT (https://github.com/xuy/pyipopt)\n",
    "#     - TASMANIAN (http://tasmanian.ornl.gov/)\n",
    "#\n",
    "#     Simon Scheidegger, 11/16 ; 07/17\n",
    "#======================================================================\n",
    "\n",
    "import nonlinear_solver_initial as solver     #solves opt. problems for terminal VF\n",
    "import nonlinear_solver_iterate_shock as solviter   #solves opt. problems during VFI\n",
    "from parameters import *                      #parameters of model\n",
    "import interpolation as interpol              #interface to sparse grid library/terminal VF\n",
    "import interpolation_iter_shock as interpol_iter    #interface to sparse grid library/iteration\n",
    "import postprocessing as post                 #computes the L2 and Linfinity error of the model\n",
    "\n",
    "import TasmanianSG                            #sparse grid library\n",
    "import numpy as np\n",
    "\n",
    "\n",
    "#======================================================================\n",
    "# Start with Value Function Iteration\n",
    "\n",
    "# terminal value function\n",
    "valnew_list = []\n",
    "print('vn_list', valnew_list)\n",
    "if (numstart==0):\n",
    "    for i in range(3):\n",
    "        print i\n",
    "        print(interpol.sparse_grid(n_agents, iDepth))\n",
    "        valnew_list.append(interpol.sparse_grid(n_agents, iDepth))\n",
    "        print('HERE')\n",
    "        print(valnew_list[i])\n",
    "        \n",
    "        \n",
    "#print('vn_list', valnew_list)\n",
    "valold_list=[TasmanianSG.TasmanianSparseGrid(), TasmanianSG.TasmanianSparseGrid(), TasmanianSG.TasmanianSparseGrid(), \n",
    "                    TasmanianSG.TasmanianSparseGrid(), TasmanianSG.TasmanianSparseGrid()]\n",
    "print('vo_list', valold_list)\n",
    "\n",
    "theta_list = [0.9, 0.95, 1., 1.05, 1.1]\n",
    "\n",
    "for i in range(numstart, numits):\n",
    "    for ii in range(len(theta_list)):\n",
    "        print('i = {}'.format(i))\n",
    "        if (i % 2 != 0) or (i == 0):\n",
    "            print('no adaption loop')\n",
    "            print('ii = {}'.format(ii))\n",
    "            valnew_list[ii] = interpol_iter.sparse_grid_iter(valold_list[ii], theta_list[ii], valold_list)\n",
    "        else:\n",
    "            print('adaption loop')\n",
    "            print('ii = {}'.format(ii))\n",
    "            valnew_list[ii] = interpol_iter.sparse_grid_iter(valold_list[ii], theta_list[ii], valold_list, adaptive = True)\n",
    "        \n",
    "    \n",
    "        # valnew.plotPoints2D()\n",
    "    valold_list = valnew_list\n",
    "    # valnew_list.write(\"valnew_1.\" + str(i+1) + \".txt\")\n",
    "# Does not check until threshold and instead iterates and updates valnew until numits (iteration to end)\n",
    "    \n",
    "#======================================================================\n",
    "print( \"===============================================================\")\n",
    "print( \" \" )\n",
    "print( \" Computation of a growth model of dimension \", n_agents ,\" finished after \", numits, \" steps\")\n",
    "print( \" \" )\n",
    "print( \"===============================================================\")\n",
    "#======================================================================\n",
    "\n",
    "# compute errors   \n",
    "avg_err=post.ls_error(n_agents, numstart, numits, No_samples)\n",
    "\n",
    "#======================================================================\n",
    "print( \"===============================================================\")\n",
    "print( \" \")\n",
    "print( \" Errors are computed -- see errors.txt\")\n",
    "print( \" \")\n",
    "print( \"===============================================================\")\n",
    "#======================================================================\n",
    "\n"
   ]
  },
  {
   "cell_type": "code",
   "execution_count": null,
   "metadata": {
    "collapsed": true
   },
   "outputs": [],
   "source": []
  }
 ],
 "metadata": {
  "kernelspec": {
   "display_name": "Python 2",
   "language": "python",
   "name": "python2"
  },
  "language_info": {
   "codemirror_mode": {
    "name": "ipython",
    "version": 2
   },
   "file_extension": ".py",
   "mimetype": "text/x-python",
   "name": "python",
   "nbconvert_exporter": "python",
   "pygments_lexer": "ipython2",
   "version": "2.7.12"
  }
 },
 "nbformat": 4,
 "nbformat_minor": 2
}
